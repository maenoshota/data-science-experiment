{
 "cells": [
  {
   "cell_type": "code",
   "execution_count": 7,
   "metadata": {},
   "outputs": [],
   "source": [
    "# 前回の分析結果を読み込みたい\n",
    "\n",
    "import pickle\n",
    "\n",
    "with open(\"../第4回/分析結果.pkl\", \"rb\") as f:\n",
    "    result = pickle.load(f)"
   ]
  },
  {
   "cell_type": "code",
   "execution_count": 8,
   "metadata": {},
   "outputs": [
    {
     "data": {
      "text/html": [
       "<table class=\"simpletable\">\n",
       "<caption>OLS Regression Results</caption>\n",
       "<tr>\n",
       "  <th>Dep. Variable:</th>           <td>魅力度</td>       <th>  R-squared:         </th> <td>   0.595</td>\n",
       "</tr>\n",
       "<tr>\n",
       "  <th>Model:</th>                   <td>OLS</td>       <th>  Adj. R-squared:    </th> <td>   0.567</td>\n",
       "</tr>\n",
       "<tr>\n",
       "  <th>Method:</th>             <td>Least Squares</td>  <th>  F-statistic:       </th> <td>   21.04</td>\n",
       "</tr>\n",
       "<tr>\n",
       "  <th>Date:</th>             <td>Tue, 12 Nov 2024</td> <th>  Prob (F-statistic):</th> <td>1.53e-08</td>\n",
       "</tr>\n",
       "<tr>\n",
       "  <th>Time:</th>                 <td>11:19:40</td>     <th>  Log-Likelihood:    </th> <td> -163.04</td>\n",
       "</tr>\n",
       "<tr>\n",
       "  <th>No. Observations:</th>      <td>    47</td>      <th>  AIC:               </th> <td>   334.1</td>\n",
       "</tr>\n",
       "<tr>\n",
       "  <th>Df Residuals:</th>          <td>    43</td>      <th>  BIC:               </th> <td>   341.5</td>\n",
       "</tr>\n",
       "<tr>\n",
       "  <th>Df Model:</th>              <td>     3</td>      <th>                     </th>     <td> </td>   \n",
       "</tr>\n",
       "<tr>\n",
       "  <th>Covariance Type:</th>      <td>nonrobust</td>    <th>                     </th>     <td> </td>   \n",
       "</tr>\n",
       "</table>\n",
       "<table class=\"simpletable\">\n",
       "<tr>\n",
       "     <td></td>       <th>coef</th>     <th>std err</th>      <th>t</th>      <th>P>|t|</th>  <th>[0.025</th>    <th>0.975]</th>  \n",
       "</tr>\n",
       "<tr>\n",
       "  <th>const</th>  <td>   18.6402</td> <td>    2.117</td> <td>    8.806</td> <td> 0.000</td> <td>   14.371</td> <td>   22.909</td>\n",
       "</tr>\n",
       "<tr>\n",
       "  <th>人口</th>     <td>-2.304e-06</td> <td> 7.99e-07</td> <td>   -2.883</td> <td> 0.006</td> <td>-3.92e-06</td> <td>-6.92e-07</td>\n",
       "</tr>\n",
       "<tr>\n",
       "  <th>ホテル客室数</th> <td>    0.0008</td> <td>    0.000</td> <td>    5.781</td> <td> 0.000</td> <td>    0.001</td> <td>    0.001</td>\n",
       "</tr>\n",
       "<tr>\n",
       "  <th>旅館客室数</th>  <td>-3.578e-05</td> <td>    0.000</td> <td>   -0.242</td> <td> 0.810</td> <td>   -0.000</td> <td>    0.000</td>\n",
       "</tr>\n",
       "</table>\n",
       "<table class=\"simpletable\">\n",
       "<tr>\n",
       "  <th>Omnibus:</th>       <td>14.240</td> <th>  Durbin-Watson:     </th> <td>   1.048</td>\n",
       "</tr>\n",
       "<tr>\n",
       "  <th>Prob(Omnibus):</th> <td> 0.001</td> <th>  Jarque-Bera (JB):  </th> <td>  16.469</td>\n",
       "</tr>\n",
       "<tr>\n",
       "  <th>Skew:</th>          <td> 1.102</td> <th>  Prob(JB):          </th> <td>0.000265</td>\n",
       "</tr>\n",
       "<tr>\n",
       "  <th>Kurtosis:</th>      <td> 4.885</td> <th>  Cond. No.          </th> <td>6.89e+06</td>\n",
       "</tr>\n",
       "</table><br/><br/>Notes:<br/>[1] Standard Errors assume that the covariance matrix of the errors is correctly specified.<br/>[2] The condition number is large, 6.89e+06. This might indicate that there are<br/>strong multicollinearity or other numerical problems."
      ],
      "text/latex": [
       "\\begin{center}\n",
       "\\begin{tabular}{lclc}\n",
       "\\toprule\n",
       "\\textbf{Dep. Variable:}    &       魅力度        & \\textbf{  R-squared:         } &     0.595   \\\\\n",
       "\\textbf{Model:}            &       OLS        & \\textbf{  Adj. R-squared:    } &     0.567   \\\\\n",
       "\\textbf{Method:}           &  Least Squares   & \\textbf{  F-statistic:       } &     21.04   \\\\\n",
       "\\textbf{Date:}             & Tue, 12 Nov 2024 & \\textbf{  Prob (F-statistic):} &  1.53e-08   \\\\\n",
       "\\textbf{Time:}             &     11:19:40     & \\textbf{  Log-Likelihood:    } &   -163.04   \\\\\n",
       "\\textbf{No. Observations:} &          47      & \\textbf{  AIC:               } &     334.1   \\\\\n",
       "\\textbf{Df Residuals:}     &          43      & \\textbf{  BIC:               } &     341.5   \\\\\n",
       "\\textbf{Df Model:}         &           3      & \\textbf{                     } &             \\\\\n",
       "\\textbf{Covariance Type:}  &    nonrobust     & \\textbf{                     } &             \\\\\n",
       "\\bottomrule\n",
       "\\end{tabular}\n",
       "\\begin{tabular}{lcccccc}\n",
       "                & \\textbf{coef} & \\textbf{std err} & \\textbf{t} & \\textbf{P$> |$t$|$} & \\textbf{[0.025} & \\textbf{0.975]}  \\\\\n",
       "\\midrule\n",
       "\\textbf{const}  &      18.6402  &        2.117     &     8.806  &         0.000        &       14.371    &       22.909     \\\\\n",
       "\\textbf{人口}     &   -2.304e-06  &     7.99e-07     &    -2.883  &         0.006        &    -3.92e-06    &    -6.92e-07     \\\\\n",
       "\\textbf{ホテル客室数} &       0.0008  &        0.000     &     5.781  &         0.000        &        0.001    &        0.001     \\\\\n",
       "\\textbf{旅館客室数}  &   -3.578e-05  &        0.000     &    -0.242  &         0.810        &       -0.000    &        0.000     \\\\\n",
       "\\bottomrule\n",
       "\\end{tabular}\n",
       "\\begin{tabular}{lclc}\n",
       "\\textbf{Omnibus:}       & 14.240 & \\textbf{  Durbin-Watson:     } &    1.048  \\\\\n",
       "\\textbf{Prob(Omnibus):} &  0.001 & \\textbf{  Jarque-Bera (JB):  } &   16.469  \\\\\n",
       "\\textbf{Skew:}          &  1.102 & \\textbf{  Prob(JB):          } & 0.000265  \\\\\n",
       "\\textbf{Kurtosis:}      &  4.885 & \\textbf{  Cond. No.          } & 6.89e+06  \\\\\n",
       "\\bottomrule\n",
       "\\end{tabular}\n",
       "%\\caption{OLS Regression Results}\n",
       "\\end{center}\n",
       "\n",
       "Notes: \\newline\n",
       " [1] Standard Errors assume that the covariance matrix of the errors is correctly specified. \\newline\n",
       " [2] The condition number is large, 6.89e+06. This might indicate that there are \\newline\n",
       " strong multicollinearity or other numerical problems."
      ],
      "text/plain": [
       "<class 'statsmodels.iolib.summary.Summary'>\n",
       "\"\"\"\n",
       "                            OLS Regression Results                            \n",
       "==============================================================================\n",
       "Dep. Variable:                    魅力度   R-squared:                       0.595\n",
       "Model:                            OLS   Adj. R-squared:                  0.567\n",
       "Method:                 Least Squares   F-statistic:                     21.04\n",
       "Date:                Tue, 12 Nov 2024   Prob (F-statistic):           1.53e-08\n",
       "Time:                        11:19:40   Log-Likelihood:                -163.04\n",
       "No. Observations:                  47   AIC:                             334.1\n",
       "Df Residuals:                      43   BIC:                             341.5\n",
       "Df Model:                           3                                         \n",
       "Covariance Type:            nonrobust                                         \n",
       "==============================================================================\n",
       "                 coef    std err          t      P>|t|      [0.025      0.975]\n",
       "------------------------------------------------------------------------------\n",
       "const         18.6402      2.117      8.806      0.000      14.371      22.909\n",
       "人口         -2.304e-06   7.99e-07     -2.883      0.006   -3.92e-06   -6.92e-07\n",
       "ホテル客室数         0.0008      0.000      5.781      0.000       0.001       0.001\n",
       "旅館客室数      -3.578e-05      0.000     -0.242      0.810      -0.000       0.000\n",
       "==============================================================================\n",
       "Omnibus:                       14.240   Durbin-Watson:                   1.048\n",
       "Prob(Omnibus):                  0.001   Jarque-Bera (JB):               16.469\n",
       "Skew:                           1.102   Prob(JB):                     0.000265\n",
       "Kurtosis:                       4.885   Cond. No.                     6.89e+06\n",
       "==============================================================================\n",
       "\n",
       "Notes:\n",
       "[1] Standard Errors assume that the covariance matrix of the errors is correctly specified.\n",
       "[2] The condition number is large, 6.89e+06. This might indicate that there are\n",
       "strong multicollinearity or other numerical problems.\n",
       "\"\"\""
      ]
     },
     "execution_count": 8,
     "metadata": {},
     "output_type": "execute_result"
    }
   ],
   "source": [
    "result.summary()"
   ]
  },
  {
   "cell_type": "markdown",
   "metadata": {},
   "source": [
    "# 決定係数"
   ]
  },
  {
   "cell_type": "markdown",
   "metadata": {},
   "source": [
    "# 1.全体の解釈"
   ]
  },
  {
   "cell_type": "code",
   "execution_count": 9,
   "metadata": {},
   "outputs": [
    {
     "data": {
      "text/plain": [
       "0.5948301261418372"
      ]
     },
     "execution_count": 9,
     "metadata": {},
     "output_type": "execute_result"
    }
   ],
   "source": [
    "# 決定係数\n",
    "# R-squered 0.595\n",
    "result.rsquared"
   ]
  },
  {
   "cell_type": "code",
   "execution_count": 10,
   "metadata": {},
   "outputs": [
    {
     "data": {
      "text/plain": [
       "0.5665624605238259"
      ]
     },
     "execution_count": 10,
     "metadata": {},
     "output_type": "execute_result"
    }
   ],
   "source": [
    "# 自由d調整済み決定係数\n",
    "result.rsquared_adj"
   ]
  },
  {
   "cell_type": "markdown",
   "metadata": {},
   "source": [
    "# F検定"
   ]
  },
  {
   "cell_type": "code",
   "execution_count": 11,
   "metadata": {},
   "outputs": [
    {
     "data": {
      "text/plain": [
       "1.5274367685392574e-08"
      ]
     },
     "execution_count": 11,
     "metadata": {},
     "output_type": "execute_result"
    }
   ],
   "source": [
    "#　F検定のp値のみの取得\n",
    "result.f_pvalue\n"
   ]
  },
  {
   "cell_type": "markdown",
   "metadata": {},
   "source": [
    "有意水準を **0.05** としてモデル適合度のF検定を行った結果p値は **1.5e-10** であり、全ての偏回帰係数が0であるという帰無仮説が **棄却された** 。すなわち、今回の分析の重回帰モデルは **有意に妥当な変数が含まれている** 事が分かった。"
   ]
  },
  {
   "cell_type": "markdown",
   "metadata": {},
   "source": [
    "## 2. 偏回帰係数の解釈"
   ]
  },
  {
   "cell_type": "code",
   "execution_count": 12,
   "metadata": {},
   "outputs": [
    {
     "data": {
      "text/plain": [
       "const     3.529716e-11\n",
       "人口        6.130946e-03\n",
       "ホテル客室数    7.617077e-07\n",
       "旅館客室数     8.098594e-01\n",
       "dtype: float64"
      ]
     },
     "execution_count": 12,
     "metadata": {},
     "output_type": "execute_result"
    }
   ],
   "source": [
    "result.pvalues"
   ]
  },
  {
   "cell_type": "code",
   "execution_count": null,
   "metadata": {},
   "outputs": [],
   "source": [
    "# 検定だと、相関がない"
   ]
  },
  {
   "cell_type": "code",
   "execution_count": 13,
   "metadata": {},
   "outputs": [
    {
     "data": {
      "text/plain": [
       "const     18.640181\n",
       "人口        -0.000002\n",
       "ホテル客室数     0.000824\n",
       "旅館客室数     -0.000036\n",
       "dtype: float64"
      ]
     },
     "execution_count": 13,
     "metadata": {},
     "output_type": "execute_result"
    }
   ],
   "source": [
    "# 係数のチェックをしましょう\n",
    "result.params"
   ]
  },
  {
   "cell_type": "markdown",
   "metadata": {},
   "source": [
    "有意水準を下回った変数の内、偏回帰係数の付合が負となったのは「人口」であり、偏回帰係数の付合が正となったのは「ホテル客室数」であった。\n",
    "変数「人口」の偏回帰係数は「-0.000002」であり、変数「人口」が1単位増加すると、目的変数「魅力度」は「-0.00002」減少する。\n",
    "変数＊＊＊の偏回帰係数は＊＊＊であり、変数「ホテル客室数」が1単位増加すると、目的変数「魅力度」0.000824増加する。"
   ]
  },
  {
   "cell_type": "markdown",
   "metadata": {},
   "source": [
    "# 切片の解釈"
   ]
  },
  {
   "cell_type": "code",
   "execution_count": 14,
   "metadata": {},
   "outputs": [
    {
     "data": {
      "text/plain": [
       "const     18.640181\n",
       "人口        -0.000002\n",
       "ホテル客室数     0.000824\n",
       "旅館客室数     -0.000036\n",
       "dtype: float64"
      ]
     },
     "execution_count": 14,
     "metadata": {},
     "output_type": "execute_result"
    }
   ],
   "source": [
    "result.params"
   ]
  },
  {
   "cell_type": "code",
   "execution_count": 15,
   "metadata": {},
   "outputs": [
    {
     "data": {
      "text/html": [
       "<div>\n",
       "<style scoped>\n",
       "    .dataframe tbody tr th:only-of-type {\n",
       "        vertical-align: middle;\n",
       "    }\n",
       "\n",
       "    .dataframe tbody tr th {\n",
       "        vertical-align: top;\n",
       "    }\n",
       "\n",
       "    .dataframe thead th {\n",
       "        text-align: right;\n",
       "    }\n",
       "</style>\n",
       "<table border=\"1\" class=\"dataframe\">\n",
       "  <thead>\n",
       "    <tr style=\"text-align: right;\">\n",
       "      <th></th>\n",
       "      <th>0</th>\n",
       "      <th>1</th>\n",
       "    </tr>\n",
       "  </thead>\n",
       "  <tbody>\n",
       "    <tr>\n",
       "      <th>const</th>\n",
       "      <td>14.371452</td>\n",
       "      <td>2.290891e+01</td>\n",
       "    </tr>\n",
       "    <tr>\n",
       "      <th>人口</th>\n",
       "      <td>-0.000004</td>\n",
       "      <td>-6.922082e-07</td>\n",
       "    </tr>\n",
       "    <tr>\n",
       "      <th>ホテル客室数</th>\n",
       "      <td>0.000537</td>\n",
       "      <td>1.111527e-03</td>\n",
       "    </tr>\n",
       "    <tr>\n",
       "      <th>旅館客室数</th>\n",
       "      <td>-0.000334</td>\n",
       "      <td>2.622713e-04</td>\n",
       "    </tr>\n",
       "  </tbody>\n",
       "</table>\n",
       "</div>"
      ],
      "text/plain": [
       "                0             1\n",
       "const   14.371452  2.290891e+01\n",
       "人口      -0.000004 -6.922082e-07\n",
       "ホテル客室数   0.000537  1.111527e-03\n",
       "旅館客室数   -0.000334  2.622713e-04"
      ]
     },
     "execution_count": 15,
     "metadata": {},
     "output_type": "execute_result"
    }
   ],
   "source": [
    "result.conf_int()"
   ]
  }
 ],
 "metadata": {
  "kernelspec": {
   "display_name": "base",
   "language": "python",
   "name": "python3"
  },
  "language_info": {
   "codemirror_mode": {
    "name": "ipython",
    "version": 3
   },
   "file_extension": ".py",
   "mimetype": "text/x-python",
   "name": "python",
   "nbconvert_exporter": "python",
   "pygments_lexer": "ipython3",
   "version": "3.11.7"
  }
 },
 "nbformat": 4,
 "nbformat_minor": 2
}
